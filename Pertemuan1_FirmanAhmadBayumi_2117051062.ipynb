{
  "cells": [
    {
      "cell_type": "markdown",
      "metadata": {
        "id": "view-in-github",
        "colab_type": "text"
      },
      "source": [
        "<a href=\"https://colab.research.google.com/github/FirmanAhmadBayumi/Machine-Learning/blob/main/Pertemuan1_FirmanAhmadBayumi_2117051062.ipynb\" target=\"_parent\"><img src=\"https://colab.research.google.com/assets/colab-badge.svg\" alt=\"Open In Colab\"/></a>"
      ]
    },
    {
      "cell_type": "markdown",
      "metadata": {
        "id": "VJf8utUxctC_"
      },
      "source": [
        "# Pertemuan 1\n",
        "\n",
        "* Pemrograman dasar di python\n",
        "\n",
        "\n",
        "\n",
        "\n"
      ]
    },
    {
      "cell_type": "markdown",
      "metadata": {
        "id": "nX5WptdjdCtg"
      },
      "source": [
        "## Variabel\n",
        "*   Deklarasi nilai ke dalam variabel"
      ]
    },
    {
      "cell_type": "code",
      "execution_count": null,
      "metadata": {
        "colab": {
          "base_uri": "https://localhost:8080/"
        },
        "id": "NEl9le6vcXdN",
        "outputId": "d3ba2a02-97f8-4996-d6c0-bc1365133db0"
      },
      "outputs": [
        {
          "name": "stdout",
          "output_type": "stream",
          "text": [
            "8\n",
            "Output:  8\n"
          ]
        }
      ],
      "source": [
        "# input \"8\" ke dalam variabel A\n",
        "\n",
        "A = 8\n",
        "print(A)\n",
        "print(\"Output: \", A)"
      ]
    },
    {
      "cell_type": "code",
      "execution_count": null,
      "metadata": {
        "colab": {
          "base_uri": "https://localhost:8080/"
        },
        "id": "nBgNOwv8eTmW",
        "outputId": "37ebcc18-0cf0-48b0-f46d-34b7cd277986"
      },
      "outputs": [
        {
          "name": "stdout",
          "output_type": "stream",
          "text": [
            "8\n",
            "<class 'str'>\n",
            "8\n",
            "<class 'int'>\n"
          ]
        }
      ],
      "source": [
        "A = \"8\"\n",
        "print(A)\n",
        "print(type(A))\n",
        "B = int(A)\n",
        "print(B)\n",
        "print(type(B))"
      ]
    },
    {
      "cell_type": "code",
      "execution_count": null,
      "metadata": {
        "colab": {
          "base_uri": "https://localhost:8080/"
        },
        "id": "FlIcwt58gCKE",
        "outputId": "28197863-efd3-4b5f-87e9-c7be244e72c8"
      },
      "outputs": [
        {
          "name": "stdout",
          "output_type": "stream",
          "text": [
            "[70, 80, 90, 100, 85]\n"
          ]
        }
      ],
      "source": [
        "#input nilai sebagai list\n",
        "nilai = [70, 80, 90, 100, 85]\n",
        "print(nilai)\n",
        "#nilai"
      ]
    },
    {
      "cell_type": "code",
      "execution_count": null,
      "metadata": {
        "colab": {
          "base_uri": "https://localhost:8080/"
        },
        "id": "S3h9RjbOgCrl",
        "outputId": "d448dd6e-a0da-4fb7-e317-fccd4adf1ccb"
      },
      "outputs": [
        {
          "name": "stdout",
          "output_type": "stream",
          "text": [
            "[80, 'A', 'Joni']\n"
          ]
        }
      ],
      "source": [
        "data = [80, \"A\", \"Joni\"]\n",
        "print(data)"
      ]
    },
    {
      "cell_type": "markdown",
      "metadata": {
        "id": "YJid9NMohW_H"
      },
      "source": [
        "## Conditional\n",
        "  Mengeksekusi Nilai berdasarkan Kondisi "
      ]
    },
    {
      "cell_type": "code",
      "execution_count": null,
      "metadata": {
        "colab": {
          "base_uri": "https://localhost:8080/"
        },
        "id": "ExcKzusUhm0G",
        "outputId": "017c235b-fd13-48b7-eb1f-cb404b530f3e"
      },
      "outputs": [
        {
          "name": "stdout",
          "output_type": "stream",
          "text": [
            "Nilai 7 tidak sama dengan A yang mana adalah 8\n"
          ]
        }
      ],
      "source": [
        "if 7 == A:\n",
        "  print(\"Nilai 7 sama dengan nilai A yang mana adalah\", A)\n",
        "else:\n",
        "  print(\"Nilai 7 tidak sama dengan A yang mana adalah\", A)"
      ]
    },
    {
      "cell_type": "code",
      "execution_count": null,
      "metadata": {
        "colab": {
          "base_uri": "https://localhost:8080/"
        },
        "id": "6x-BN0nkh4HY",
        "outputId": "d2d557a3-8614-46e4-b923-afb01472d28d"
      },
      "outputs": [
        {
          "name": "stdout",
          "output_type": "stream",
          "text": [
            "ada nilai 70 didalam list\n"
          ]
        }
      ],
      "source": [
        "# mengecek nilai didalam list\n",
        "if 70 in nilai:\n",
        "  print(\"ada nilai 70 didalam list\")\n",
        "else:\n",
        "  print(\"Tidak ada didalam list\")"
      ]
    },
    {
      "cell_type": "markdown",
      "metadata": {
        "id": "ol5LS2E6jOrv"
      },
      "source": [
        "## Looping\n",
        "Mengekseskusi nilai berdasarkan perulangan"
      ]
    },
    {
      "cell_type": "code",
      "execution_count": null,
      "metadata": {
        "colab": {
          "base_uri": "https://localhost:8080/"
        },
        "id": "NhruqOy9jVTB",
        "outputId": "4240b5c3-9b8d-40f5-ba50-d6b51837bfd0"
      },
      "outputs": [
        {
          "name": "stdout",
          "output_type": "stream",
          "text": [
            "0\n",
            "2\n",
            "4\n",
            "6\n",
            "8\n",
            "10\n",
            "12\n",
            "14\n",
            "16\n",
            "18\n"
          ]
        }
      ],
      "source": [
        "# mencetak perkalian 2 dengan angka 0 sampai 10\n",
        "for i in range(10):\n",
        "  print(i*2)"
      ]
    },
    {
      "cell_type": "markdown",
      "metadata": {
        "id": "t41bGLGvjsEG"
      },
      "source": [
        "## Function"
      ]
    },
    {
      "cell_type": "markdown",
      "metadata": {
        "id": "GSTqwb4ZkMpe"
      },
      "source": [
        "## User Define Function\n",
        "Mendeklarasikan fungsi yang dibuat sendiri dengan awalan nama def nama_fungsi(parameter)"
      ]
    },
    {
      "cell_type": "code",
      "execution_count": null,
      "metadata": {
        "colab": {
          "base_uri": "https://localhost:8080/"
        },
        "id": "Cg7o819ejvY-",
        "outputId": "c16f5fdf-5c1e-4ec2-9941-8922fdd06568"
      },
      "outputs": [
        {
          "name": "stdout",
          "output_type": "stream",
          "text": [
            "A\n"
          ]
        }
      ],
      "source": [
        "# Fungsi yang mencetak suatu nilai\n",
        "def cetak_a():\n",
        "  print(\"A\")\n",
        "\n",
        "#panggil fungsi cetak_a\n",
        "cetak_a()"
      ]
    },
    {
      "cell_type": "code",
      "execution_count": null,
      "metadata": {
        "colab": {
          "base_uri": "https://localhost:8080/"
        },
        "id": "ZKo0Ku2FkpP4",
        "outputId": "338b28ac-475f-41a5-a925-2011fbd79203"
      },
      "outputs": [
        {
          "data": {
            "text/plain": [
              "16"
            ]
          },
          "execution_count": 11,
          "metadata": {},
          "output_type": "execute_result"
        }
      ],
      "source": [
        "# Fungsi yang mengembalikan suatu nilai dari suatu masukan\n",
        "def cetak_pangkat_dua(x):\n",
        "  x = x**2\n",
        "  return x\n",
        "\n",
        "# Panggil fungsi cetak_pangkat_dua dengan inputan tertentu\n",
        "cetak_pangkat_dua(4)"
      ]
    },
    {
      "cell_type": "markdown",
      "metadata": {
        "id": "87wF41MHmSqf"
      },
      "source": [
        "## Built-in Function\n",
        "Memanggil fungsi bawaan python"
      ]
    },
    {
      "cell_type": "code",
      "execution_count": null,
      "metadata": {
        "colab": {
          "base_uri": "https://localhost:8080/"
        },
        "id": "99QGEaoBmWne",
        "outputId": "27d168f4-a7e7-4adf-d2fc-114e31f8b94e"
      },
      "outputs": [
        {
          "name": "stdout",
          "output_type": "stream",
          "text": [
            "5\n",
            "100\n"
          ]
        }
      ],
      "source": [
        "nilai = [70, 80, 90, 100, 85]\n",
        "# memanggil fungsi len untuk mencetak jumlah item dari list\n",
        "print(len(nilai))\n",
        "\n",
        "# memanggil fungsi max untuk mencetak item terbesar dari list\n",
        "print(max(nilai))\n",
        "\n",
        "# untuk tahu fungsi bawaan dari library yang ada, perlu baca dokumentasinya"
      ]
    },
    {
      "cell_type": "markdown",
      "metadata": {
        "id": "vSPsq2Hdnf7y"
      },
      "source": [
        "## Library\n",
        "Sekumpulan kode yang mmeiliki fungsi-fungsi tertentu dan dapat dipanggil kedalam program lain"
      ]
    },
    {
      "cell_type": "code",
      "execution_count": null,
      "metadata": {
        "colab": {
          "base_uri": "https://localhost:8080/"
        },
        "id": "bxv3hN1ynpfa",
        "outputId": "7fc1be80-e871-42b3-ea94-7936c69b6d81"
      },
      "outputs": [
        {
          "name": "stdout",
          "output_type": "stream",
          "text": [
            "[10 20 30 40 50]\n"
          ]
        }
      ],
      "source": [
        "# deklarasi library dengan fungsi yang ada didalamnya\n",
        "import numpy as np\n",
        "\n",
        "# inisiasi vector dengan nilai skalar\n",
        "list1 = [1,2,3,4,5]\n",
        "vtr1 = np.array(list1)\n",
        "scalar_value = 10\n",
        "\n",
        "# operasi perkalian vector-scalar\n",
        "vtr_scalar = vtr1 * scalar_value\n",
        "print(vtr_scalar)"
      ]
    },
    {
      "cell_type": "code",
      "execution_count": null,
      "metadata": {
        "colab": {
          "base_uri": "https://localhost:8080/",
          "height": 206
        },
        "id": "jZhd4xcWpRQg",
        "outputId": "d60ffd82-da81-4d7b-b2b1-0757207e9701"
      },
      "outputs": [
        {
          "data": {
            "text/html": [
              "\n",
              "  <div id=\"df-c41d03eb-9284-4112-a628-fc51ca1dd1a9\">\n",
              "    <div class=\"colab-df-container\">\n",
              "      <div>\n",
              "<style scoped>\n",
              "    .dataframe tbody tr th:only-of-type {\n",
              "        vertical-align: middle;\n",
              "    }\n",
              "\n",
              "    .dataframe tbody tr th {\n",
              "        vertical-align: top;\n",
              "    }\n",
              "\n",
              "    .dataframe thead th {\n",
              "        text-align: right;\n",
              "    }\n",
              "</style>\n",
              "<table border=\"1\" class=\"dataframe\">\n",
              "  <thead>\n",
              "    <tr style=\"text-align: right;\">\n",
              "      <th></th>\n",
              "      <th>nilai</th>\n",
              "    </tr>\n",
              "  </thead>\n",
              "  <tbody>\n",
              "    <tr>\n",
              "      <th>0</th>\n",
              "      <td>70</td>\n",
              "    </tr>\n",
              "    <tr>\n",
              "      <th>1</th>\n",
              "      <td>80</td>\n",
              "    </tr>\n",
              "    <tr>\n",
              "      <th>2</th>\n",
              "      <td>90</td>\n",
              "    </tr>\n",
              "    <tr>\n",
              "      <th>3</th>\n",
              "      <td>100</td>\n",
              "    </tr>\n",
              "    <tr>\n",
              "      <th>4</th>\n",
              "      <td>85</td>\n",
              "    </tr>\n",
              "  </tbody>\n",
              "</table>\n",
              "</div>\n",
              "      <button class=\"colab-df-convert\" onclick=\"convertToInteractive('df-c41d03eb-9284-4112-a628-fc51ca1dd1a9')\"\n",
              "              title=\"Convert this dataframe to an interactive table.\"\n",
              "              style=\"display:none;\">\n",
              "        \n",
              "  <svg xmlns=\"http://www.w3.org/2000/svg\" height=\"24px\"viewBox=\"0 0 24 24\"\n",
              "       width=\"24px\">\n",
              "    <path d=\"M0 0h24v24H0V0z\" fill=\"none\"/>\n",
              "    <path d=\"M18.56 5.44l.94 2.06.94-2.06 2.06-.94-2.06-.94-.94-2.06-.94 2.06-2.06.94zm-11 1L8.5 8.5l.94-2.06 2.06-.94-2.06-.94L8.5 2.5l-.94 2.06-2.06.94zm10 10l.94 2.06.94-2.06 2.06-.94-2.06-.94-.94-2.06-.94 2.06-2.06.94z\"/><path d=\"M17.41 7.96l-1.37-1.37c-.4-.4-.92-.59-1.43-.59-.52 0-1.04.2-1.43.59L10.3 9.45l-7.72 7.72c-.78.78-.78 2.05 0 2.83L4 21.41c.39.39.9.59 1.41.59.51 0 1.02-.2 1.41-.59l7.78-7.78 2.81-2.81c.8-.78.8-2.07 0-2.86zM5.41 20L4 18.59l7.72-7.72 1.47 1.35L5.41 20z\"/>\n",
              "  </svg>\n",
              "      </button>\n",
              "      \n",
              "  <style>\n",
              "    .colab-df-container {\n",
              "      display:flex;\n",
              "      flex-wrap:wrap;\n",
              "      gap: 12px;\n",
              "    }\n",
              "\n",
              "    .colab-df-convert {\n",
              "      background-color: #E8F0FE;\n",
              "      border: none;\n",
              "      border-radius: 50%;\n",
              "      cursor: pointer;\n",
              "      display: none;\n",
              "      fill: #1967D2;\n",
              "      height: 32px;\n",
              "      padding: 0 0 0 0;\n",
              "      width: 32px;\n",
              "    }\n",
              "\n",
              "    .colab-df-convert:hover {\n",
              "      background-color: #E2EBFA;\n",
              "      box-shadow: 0px 1px 2px rgba(60, 64, 67, 0.3), 0px 1px 3px 1px rgba(60, 64, 67, 0.15);\n",
              "      fill: #174EA6;\n",
              "    }\n",
              "\n",
              "    [theme=dark] .colab-df-convert {\n",
              "      background-color: #3B4455;\n",
              "      fill: #D2E3FC;\n",
              "    }\n",
              "\n",
              "    [theme=dark] .colab-df-convert:hover {\n",
              "      background-color: #434B5C;\n",
              "      box-shadow: 0px 1px 3px 1px rgba(0, 0, 0, 0.15);\n",
              "      filter: drop-shadow(0px 1px 2px rgba(0, 0, 0, 0.3));\n",
              "      fill: #FFFFFF;\n",
              "    }\n",
              "  </style>\n",
              "\n",
              "      <script>\n",
              "        const buttonEl =\n",
              "          document.querySelector('#df-c41d03eb-9284-4112-a628-fc51ca1dd1a9 button.colab-df-convert');\n",
              "        buttonEl.style.display =\n",
              "          google.colab.kernel.accessAllowed ? 'block' : 'none';\n",
              "\n",
              "        async function convertToInteractive(key) {\n",
              "          const element = document.querySelector('#df-c41d03eb-9284-4112-a628-fc51ca1dd1a9');\n",
              "          const dataTable =\n",
              "            await google.colab.kernel.invokeFunction('convertToInteractive',\n",
              "                                                     [key], {});\n",
              "          if (!dataTable) return;\n",
              "\n",
              "          const docLinkHtml = 'Like what you see? Visit the ' +\n",
              "            '<a target=\"_blank\" href=https://colab.research.google.com/notebooks/data_table.ipynb>data table notebook</a>'\n",
              "            + ' to learn more about interactive tables.';\n",
              "          element.innerHTML = '';\n",
              "          dataTable['output_type'] = 'display_data';\n",
              "          await google.colab.output.renderOutput(dataTable, element);\n",
              "          const docLink = document.createElement('div');\n",
              "          docLink.innerHTML = docLinkHtml;\n",
              "          element.appendChild(docLink);\n",
              "        }\n",
              "      </script>\n",
              "    </div>\n",
              "  </div>\n",
              "  "
            ],
            "text/plain": [
              "   nilai\n",
              "0     70\n",
              "1     80\n",
              "2     90\n",
              "3    100\n",
              "4     85"
            ]
          },
          "execution_count": 14,
          "metadata": {},
          "output_type": "execute_result"
        }
      ],
      "source": [
        "# deklarasi library dengan mengggunakan nama alias\n",
        "import pandas as pd\n",
        "\n",
        "# membuat variabel dataframe (df) dengan isi list nilai dan nama kolom \"nilai\"\n",
        "df = pd.DataFrame(nilai, columns = [\"nilai\"])\n",
        "df #dataframe"
      ]
    },
    {
      "cell_type": "markdown",
      "metadata": {
        "id": "0VmaE-gqwq03"
      },
      "source": [
        "## Tugas Responsi 1"
      ]
    },
    {
      "cell_type": "code",
      "execution_count": null,
      "metadata": {
        "colab": {
          "base_uri": "https://localhost:8080/"
        },
        "id": "G4gDx1w7wwCK",
        "outputId": "7f16eff7-8919-40d2-d620-aa025bc15349"
      },
      "outputs": [
        {
          "name": "stdout",
          "output_type": "stream",
          "text": [
            "[ 2  8 18 32 50]\n"
          ]
        }
      ],
      "source": [
        "# Penyelesaian soal nomor 1\n",
        "\n",
        "import numpy as np\n",
        "\n",
        "list1 = [1, 2, 3 ,4 ,5]\n",
        "list2 = [2, 4, 6, 8, 10]\n",
        "\n",
        "vtr1 = np.array(list1)\n",
        "vtr2 = np.array(list2)\n",
        "\n",
        "hasil = vtr1 * vtr2\n",
        "\n",
        "print(hasil)"
      ]
    },
    {
      "cell_type": "code",
      "execution_count": 2,
      "metadata": {
        "colab": {
          "base_uri": "https://localhost:8080/",
          "height": 175
        },
        "id": "RaGHyAFbySHv",
        "outputId": "a8c574a1-17f5-4575-e5a5-36a571aaa386"
      },
      "outputs": [
        {
          "output_type": "execute_result",
          "data": {
            "text/plain": [
              "  mahasiswa  nilai   keterangan\n",
              "0      Andi      7        lulus\n",
              "1      Budi      6  belum lulus\n",
              "2      Caca     10        lulus\n",
              "3      Didi      8        lulus"
            ],
            "text/html": [
              "\n",
              "  <div id=\"df-c85a327b-b080-48bd-988e-9cde41f4d586\">\n",
              "    <div class=\"colab-df-container\">\n",
              "      <div>\n",
              "<style scoped>\n",
              "    .dataframe tbody tr th:only-of-type {\n",
              "        vertical-align: middle;\n",
              "    }\n",
              "\n",
              "    .dataframe tbody tr th {\n",
              "        vertical-align: top;\n",
              "    }\n",
              "\n",
              "    .dataframe thead th {\n",
              "        text-align: right;\n",
              "    }\n",
              "</style>\n",
              "<table border=\"1\" class=\"dataframe\">\n",
              "  <thead>\n",
              "    <tr style=\"text-align: right;\">\n",
              "      <th></th>\n",
              "      <th>mahasiswa</th>\n",
              "      <th>nilai</th>\n",
              "      <th>keterangan</th>\n",
              "    </tr>\n",
              "  </thead>\n",
              "  <tbody>\n",
              "    <tr>\n",
              "      <th>0</th>\n",
              "      <td>Andi</td>\n",
              "      <td>7</td>\n",
              "      <td>lulus</td>\n",
              "    </tr>\n",
              "    <tr>\n",
              "      <th>1</th>\n",
              "      <td>Budi</td>\n",
              "      <td>6</td>\n",
              "      <td>belum lulus</td>\n",
              "    </tr>\n",
              "    <tr>\n",
              "      <th>2</th>\n",
              "      <td>Caca</td>\n",
              "      <td>10</td>\n",
              "      <td>lulus</td>\n",
              "    </tr>\n",
              "    <tr>\n",
              "      <th>3</th>\n",
              "      <td>Didi</td>\n",
              "      <td>8</td>\n",
              "      <td>lulus</td>\n",
              "    </tr>\n",
              "  </tbody>\n",
              "</table>\n",
              "</div>\n",
              "      <button class=\"colab-df-convert\" onclick=\"convertToInteractive('df-c85a327b-b080-48bd-988e-9cde41f4d586')\"\n",
              "              title=\"Convert this dataframe to an interactive table.\"\n",
              "              style=\"display:none;\">\n",
              "        \n",
              "  <svg xmlns=\"http://www.w3.org/2000/svg\" height=\"24px\"viewBox=\"0 0 24 24\"\n",
              "       width=\"24px\">\n",
              "    <path d=\"M0 0h24v24H0V0z\" fill=\"none\"/>\n",
              "    <path d=\"M18.56 5.44l.94 2.06.94-2.06 2.06-.94-2.06-.94-.94-2.06-.94 2.06-2.06.94zm-11 1L8.5 8.5l.94-2.06 2.06-.94-2.06-.94L8.5 2.5l-.94 2.06-2.06.94zm10 10l.94 2.06.94-2.06 2.06-.94-2.06-.94-.94-2.06-.94 2.06-2.06.94z\"/><path d=\"M17.41 7.96l-1.37-1.37c-.4-.4-.92-.59-1.43-.59-.52 0-1.04.2-1.43.59L10.3 9.45l-7.72 7.72c-.78.78-.78 2.05 0 2.83L4 21.41c.39.39.9.59 1.41.59.51 0 1.02-.2 1.41-.59l7.78-7.78 2.81-2.81c.8-.78.8-2.07 0-2.86zM5.41 20L4 18.59l7.72-7.72 1.47 1.35L5.41 20z\"/>\n",
              "  </svg>\n",
              "      </button>\n",
              "      \n",
              "  <style>\n",
              "    .colab-df-container {\n",
              "      display:flex;\n",
              "      flex-wrap:wrap;\n",
              "      gap: 12px;\n",
              "    }\n",
              "\n",
              "    .colab-df-convert {\n",
              "      background-color: #E8F0FE;\n",
              "      border: none;\n",
              "      border-radius: 50%;\n",
              "      cursor: pointer;\n",
              "      display: none;\n",
              "      fill: #1967D2;\n",
              "      height: 32px;\n",
              "      padding: 0 0 0 0;\n",
              "      width: 32px;\n",
              "    }\n",
              "\n",
              "    .colab-df-convert:hover {\n",
              "      background-color: #E2EBFA;\n",
              "      box-shadow: 0px 1px 2px rgba(60, 64, 67, 0.3), 0px 1px 3px 1px rgba(60, 64, 67, 0.15);\n",
              "      fill: #174EA6;\n",
              "    }\n",
              "\n",
              "    [theme=dark] .colab-df-convert {\n",
              "      background-color: #3B4455;\n",
              "      fill: #D2E3FC;\n",
              "    }\n",
              "\n",
              "    [theme=dark] .colab-df-convert:hover {\n",
              "      background-color: #434B5C;\n",
              "      box-shadow: 0px 1px 3px 1px rgba(0, 0, 0, 0.15);\n",
              "      filter: drop-shadow(0px 1px 2px rgba(0, 0, 0, 0.3));\n",
              "      fill: #FFFFFF;\n",
              "    }\n",
              "  </style>\n",
              "\n",
              "      <script>\n",
              "        const buttonEl =\n",
              "          document.querySelector('#df-c85a327b-b080-48bd-988e-9cde41f4d586 button.colab-df-convert');\n",
              "        buttonEl.style.display =\n",
              "          google.colab.kernel.accessAllowed ? 'block' : 'none';\n",
              "\n",
              "        async function convertToInteractive(key) {\n",
              "          const element = document.querySelector('#df-c85a327b-b080-48bd-988e-9cde41f4d586');\n",
              "          const dataTable =\n",
              "            await google.colab.kernel.invokeFunction('convertToInteractive',\n",
              "                                                     [key], {});\n",
              "          if (!dataTable) return;\n",
              "\n",
              "          const docLinkHtml = 'Like what you see? Visit the ' +\n",
              "            '<a target=\"_blank\" href=https://colab.research.google.com/notebooks/data_table.ipynb>data table notebook</a>'\n",
              "            + ' to learn more about interactive tables.';\n",
              "          element.innerHTML = '';\n",
              "          dataTable['output_type'] = 'display_data';\n",
              "          await google.colab.output.renderOutput(dataTable, element);\n",
              "          const docLink = document.createElement('div');\n",
              "          docLink.innerHTML = docLinkHtml;\n",
              "          element.appendChild(docLink);\n",
              "        }\n",
              "      </script>\n",
              "    </div>\n",
              "  </div>\n",
              "  "
            ]
          },
          "metadata": {},
          "execution_count": 2
        }
      ],
      "source": [
        "#penyelesaian soal nomor 2\n",
        "\n",
        "import pandas as pd\n",
        "\n",
        "mhs = ['Andi', 'Budi', 'Caca', 'Didi']\n",
        "nilai = [7, 6, 10, 8]\n",
        "\n",
        "def Keterangan(nilai):\n",
        "  if(nilai < 7):\n",
        "    return \"belum lulus\"\n",
        "  else:\n",
        "    return \"lulus\"\n",
        "\n",
        "data = {\n",
        "    'mahasiswa': mhs, 'nilai': nilai, 'keterangan': [Keterangan(i) for i in nilai]\n",
        "}\n",
        "\n",
        "df = pd.DataFrame(data)\n",
        "df"
      ]
    },
    {
      "cell_type": "code",
      "execution_count": 3,
      "metadata": {
        "colab": {
          "base_uri": "https://localhost:8080/"
        },
        "id": "bRXo8x6C5BZl",
        "outputId": "70acdfd5-b44d-4bb5-d376-05c9662434b7"
      },
      "outputs": [
        {
          "output_type": "stream",
          "name": "stdout",
          "text": [
            "75.0%\n"
          ]
        }
      ],
      "source": [
        "# Penyelesaian soal nomor 3\n",
        "\n",
        "print(f\"{df[df['keterangan'] == 'lulus'].size * 100/df.size}%\")"
      ]
    }
  ],
  "metadata": {
    "colab": {
      "toc_visible": true,
      "provenance": [],
      "authorship_tag": "ABX9TyO4WiGo7ZzxGAYHxb+IKxfq",
      "include_colab_link": true
    },
    "kernelspec": {
      "display_name": "Python 3",
      "name": "python3"
    },
    "language_info": {
      "name": "python"
    }
  },
  "nbformat": 4,
  "nbformat_minor": 0
}